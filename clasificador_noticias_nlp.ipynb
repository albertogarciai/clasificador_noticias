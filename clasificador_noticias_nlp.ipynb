{
 "cells": [
  {
   "cell_type": "markdown",
   "id": "fa5f5ff1",
   "metadata": {},
   "source": [
    "# Clasificación de Noticias - NLP"
   ]
  },
  {
   "cell_type": "markdown",
   "id": "abbaefe9",
   "metadata": {},
   "source": [
    "## Preprocesamiento, Vectorización, Modelado, Sentimiento y Predicción"
   ]
  },
  {
   "cell_type": "code",
   "execution_count": 2,
   "id": "13bb04a6",
   "metadata": {},
   "outputs": [
    {
     "name": "stderr",
     "output_type": "stream",
     "text": [
      "[nltk_data] Downloading package punkt to /Users/alberto/nltk_data...\n",
      "[nltk_data]   Package punkt is already up-to-date!\n",
      "[nltk_data] Downloading package stopwords to\n",
      "[nltk_data]     /Users/alberto/nltk_data...\n",
      "[nltk_data]   Package stopwords is already up-to-date!\n",
      "[nltk_data] Downloading package wordnet to /Users/alberto/nltk_data...\n",
      "[nltk_data]   Package wordnet is already up-to-date!\n"
     ]
    },
    {
     "data": {
      "text/plain": [
       "True"
      ]
     },
     "execution_count": 2,
     "metadata": {},
     "output_type": "execute_result"
    }
   ],
   "source": [
    "import pandas as pd\n",
    "import numpy as np\n",
    "import re\n",
    "import string\n",
    "\n",
    "from sklearn.model_selection import train_test_split\n",
    "from sklearn.feature_extraction.text import TfidfVectorizer\n",
    "from sklearn.linear_model import LogisticRegression\n",
    "from sklearn.ensemble import RandomForestClassifier\n",
    "from sklearn.metrics import accuracy_score\n",
    "\n",
    "import nltk\n",
    "from nltk.corpus import stopwords\n",
    "from nltk.tokenize import word_tokenize\n",
    "from nltk.stem import WordNetLemmatizer\n",
    "\n",
    "from vaderSentiment.vaderSentiment import SentimentIntensityAnalyzer\n",
    "import pickle\n",
    "\n",
    "# Descargar recursos\n",
    "nltk.download('punkt')\n",
    "nltk.download('stopwords')\n",
    "nltk.download('wordnet')"
   ]
  },
  {
   "cell_type": "code",
   "execution_count": 3,
   "id": "1606cd00",
   "metadata": {},
   "outputs": [
    {
     "name": "stdout",
     "output_type": "stream",
     "text": [
      "   label                                           headline\n",
      "0      0  donald trump sends out embarrassing new year‚s...\n",
      "1      0  drunk bragging trump staffer started russian c...\n",
      "2      0  sheriff david clarke becomes an internet joke ...\n",
      "3      0  trump is so obsessed he even has obama‚s name ...\n",
      "4      0  pope francis just called out donald trump duri...\n",
      "  label                                           headline\n",
      "0     2  copycat muslim terrorist arrested with assault...\n",
      "1     2  wow! chicago protester caught on camera admits...\n",
      "2     2   germany's fdp look to fill schaeuble's big shoes\n",
      "3     2  mi school sends welcome back packet warning ki...\n",
      "4     2  u.n. seeks 'massive' aid boost amid rohingya '...\n"
     ]
    }
   ],
   "source": [
    "# Cargar datasets\n",
    "train_df = pd.read_csv('dataset/training_data.csv', sep='\\t', header=None, names=[\"label\", \"headline\"])\n",
    "test_df = pd.read_csv('dataset/testing_data.csv', sep='\\t', header=None, names=[\"label\", \"headline\"])\n",
    "\n",
    "print(train_df.head())\n",
    "print(test_df.head())"
   ]
  },
  {
   "cell_type": "code",
   "execution_count": 4,
   "id": "15eb4123",
   "metadata": {},
   "outputs": [
    {
     "name": "stdout",
     "output_type": "stream",
     "text": [
      "Index(['label', 'headline'], dtype='object')\n",
      "Index(['label', 'headline'], dtype='object')\n"
     ]
    }
   ],
   "source": [
    "print(train_df.columns)\n",
    "print(test_df.columns)"
   ]
  },
  {
   "cell_type": "code",
   "execution_count": 5,
   "id": "65faac3c",
   "metadata": {},
   "outputs": [],
   "source": [
    "# Preprocesamiento\n",
    "stop_words = set(stopwords.words('english'))\n",
    "lemmatizer = WordNetLemmatizer()\n",
    "\n",
    "def preprocess_text(text):\n",
    "    text = text.lower()\n",
    "    text = re.sub(r'[%s]' % re.escape(string.punctuation), '', text)\n",
    "    tokens = word_tokenize(text)\n",
    "    tokens = [lemmatizer.lemmatize(w) for w in tokens if w not in stop_words]\n",
    "    return \" \".join(tokens)\n",
    "\n",
    "train_df['clean_headline'] = train_df['headline'].apply(preprocess_text)\n",
    "test_df['clean_headline'] = test_df['headline'].apply(preprocess_text)"
   ]
  },
  {
   "cell_type": "code",
   "execution_count": 6,
   "id": "482d8da1",
   "metadata": {},
   "outputs": [],
   "source": [
    "# Vectorización\n",
    "vectorizer = TfidfVectorizer()\n",
    "X = vectorizer.fit_transform(train_df['clean_headline'])\n",
    "X_test = vectorizer.transform(test_df['clean_headline'])\n",
    "y = train_df['label']"
   ]
  },
  {
   "cell_type": "code",
   "execution_count": null,
   "id": "45f1a8cf",
   "metadata": {},
   "outputs": [
    {
     "name": "stdout",
     "output_type": "stream",
     "text": [
      "Logistic Regression Accuracy: 0.9319279754062363\n"
     ]
    }
   ],
   "source": [
    "# Entrenamiento de modelos\n",
    "X_train, X_val, y_train, y_val = train_test_split(X, y, test_size=0.2, random_state=42)\n",
    "\n",
    "lr = LogisticRegression()\n",
    "lr.fit(X_train, y_train)\n",
    "y_pred_lr = lr.predict(X_val)\n",
    "print(\"Logistic Regression Accuracy:\", accuracy_score(y_val, y_pred_lr))\n",
    "\n",
    "rf = RandomForestClassifier()\n",
    "rf.fit(X_train, y_train)\n",
    "y_pred_rf = rf.predict(X_val)\n",
    "print(\"Random Forest Accuracy:\", accuracy_score(y_val, y_pred_rf))\n",
    "\n",
    "model = lr  # Seleccionamos el mejor"
   ]
  },
  {
   "cell_type": "code",
   "execution_count": null,
   "id": "819e0f68",
   "metadata": {},
   "outputs": [],
   "source": [
    "import os\n",
    "import pickle\n",
    "\n",
    "# Crear la carpeta models si no existe\n",
    "os.makedirs(\"models\", exist_ok=True)\n",
    "\n",
    "# Guardar modelo\n",
    "model_path = os.path.join(\"models\", \"model.pkl\")\n",
    "with open(model_path, \"wb\") as f:\n",
    "    pickle.dump(model, f)\n",
    "\n",
    "# Guardar vectorizador\n",
    "vectorizer_path = os.path.join(\"models\", \"vectorizer.pkl\")\n",
    "with open(vectorizer_path, \"wb\") as f:\n",
    "    pickle.dump(vectorizer, f)\n",
    "\n",
    "print(f\"✅ Modelo guardado en {model_path}\")\n",
    "print(f\"✅ Vectorizador guardado en {vectorizer_path}\")"
   ]
  },
  {
   "cell_type": "code",
   "execution_count": null,
   "id": "6387dc86",
   "metadata": {},
   "outputs": [],
   "source": [
    "# Análisis de sentimiento\n",
    "analyzer = SentimentIntensityAnalyzer()\n",
    "\n",
    "def analyze_sentiment(text):\n",
    "    return analyzer.polarity_scores(text)['compound']\n",
    "\n",
    "train_df['sentiment_score'] = train_df['headline'].apply(analyze_sentiment)\n",
    "train_df.head()"
   ]
  },
  {
   "cell_type": "code",
   "execution_count": null,
   "id": "24b07607",
   "metadata": {},
   "outputs": [],
   "source": [
    "# Predicción sobre test\n",
    "predictions = model.predict(X_test)\n",
    "\n",
    "# Añadir las predicciones al dataframe\n",
    "test_df['label'] = predictions\n",
    "\n",
    "# Crear carpeta dataset si no existe\n",
    "import os\n",
    "os.makedirs(\"dataset\", exist_ok=True)\n",
    "\n",
    "# Guardar el archivo en la carpeta dataset\n",
    "output_path = os.path.join(\"dataset\", \"testing_data_predictions.csv\")\n",
    "test_df[['headline', 'label']].to_csv(output_path, index=False)\n",
    "\n",
    "print(f\"✅ Archivo de predicciones generado en {output_path}\")"
   ]
  }
 ],
 "metadata": {
  "kernelspec": {
   "display_name": "genai",
   "language": "python",
   "name": "python3"
  },
  "language_info": {
   "codemirror_mode": {
    "name": "ipython",
    "version": 3
   },
   "file_extension": ".py",
   "mimetype": "text/x-python",
   "name": "python",
   "nbconvert_exporter": "python",
   "pygments_lexer": "ipython3",
   "version": "3.10.16"
  }
 },
 "nbformat": 4,
 "nbformat_minor": 5
}
